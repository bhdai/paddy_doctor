{
 "cells": [
  {
   "cell_type": "code",
   "execution_count": 1,
   "id": "0e8d2524",
   "metadata": {},
   "outputs": [],
   "source": [
    "import pandas as pd\n",
    "import os\n",
    "from PIL import Image\n",
    "from sklearn.model_selection import train_test_split\n",
    "import torch\n",
    "import torch.nn as nn\n",
    "from torch.utils.data import Dataset, DataLoader\n",
    "from torchvision import transforms\n",
    "from torch.utils.data import DataLoader\n",
    "from torchvision import models\n",
    "import multiprocessing"
   ]
  },
  {
   "cell_type": "code",
   "execution_count": 2,
   "id": "85866e9d",
   "metadata": {},
   "outputs": [
    {
     "data": {
      "text/plain": [
       "((8325, 4), (2082, 4))"
      ]
     },
     "execution_count": 2,
     "metadata": {},
     "output_type": "execute_result"
    }
   ],
   "source": [
    "df = pd.read_csv(\"../data/train.csv\")\n",
    "train_df, val_df = train_test_split(\n",
    "    df,\n",
    "    test_size=0.2,\n",
    "    stratify=df['label'],\n",
    "    random_state=42\n",
    ")\n",
    "train_df.shape, val_df.shape"
   ]
  },
  {
   "cell_type": "code",
   "execution_count": 3,
   "id": "f5473c24",
   "metadata": {},
   "outputs": [],
   "source": [
    "class PaddyDataset(Dataset):\n",
    "    def __init__(self, df, img_dir, transformer=None):\n",
    "        self.df = df.reset_index(drop=True)\n",
    "        self.img_dir = img_dir\n",
    "        self.transform = transformer\n",
    "        \n",
    "        classes = self.df['label'].unique()\n",
    "        self.label2idx = {label: idx for idx, label in enumerate(classes)}\n",
    "        self.idx2label = {idx: label for idx, label in enumerate(classes)}\n",
    "\n",
    "    def __len__(self):\n",
    "        return len(self.df)\n",
    "    \n",
    "    def __getitem__(self, index):\n",
    "        row = self.df.iloc[index]\n",
    "        img_path = os.path.join(self.img_dir, row['label'], row['image_id'])\n",
    "        image = Image.open(img_path).convert(\"RGB\")\n",
    "        if self.transform:\n",
    "            image = self.transform(image)\n",
    "        label = self.label2idx[row['label']]\n",
    "        return image, label"
   ]
  },
  {
   "cell_type": "code",
   "execution_count": 4,
   "id": "8d14a8de",
   "metadata": {},
   "outputs": [],
   "source": [
    "val_transform = transforms.Compose([\n",
    "    transforms.Resize((224, 224)),\n",
    "    transforms.ToTensor(),\n",
    "    transforms.Normalize(\n",
    "        mean=[0.485, 0.456, 0.406], # normalize images to ImageNet mean and std\n",
    "        std=[0.229, 0.224, 0.225]\n",
    "    )\n",
    "])"
   ]
  },
  {
   "cell_type": "code",
   "execution_count": 5,
   "id": "02dbf95f",
   "metadata": {},
   "outputs": [],
   "source": [
    "train_transform = transforms.Compose([\n",
    "    # data augmentations\n",
    "    transforms.RandomHorizontalFlip(p=0.5),\n",
    "    transforms.RandomRotation(degrees=20),\n",
    "    transforms.ColorJitter(brightness=0.2, contrast=0.2, saturation=0.2),\n",
    "\n",
    "    transforms.Resize((224, 224)),\n",
    "    transforms.ToTensor(),\n",
    "    transforms.Normalize(\n",
    "        mean=[0.485, 0.456, 0.406],\n",
    "        std=[0.229, 0.224, 0.225]\n",
    "    )\n",
    "])"
   ]
  },
  {
   "cell_type": "code",
   "execution_count": 6,
   "id": "07c3396e",
   "metadata": {},
   "outputs": [],
   "source": [
    "img_dir = \"../data/train_images\"\n",
    "train_dataset = PaddyDataset(\n",
    "    df=train_df,\n",
    "    img_dir=img_dir,\n",
    "    transformer=train_transform\n",
    ")\n",
    "val_dataset = PaddyDataset(\n",
    "    df=val_df,\n",
    "    img_dir=img_dir,\n",
    "    transformer=val_transform\n",
    ")"
   ]
  },
  {
   "cell_type": "code",
   "execution_count": 7,
   "id": "463542f4",
   "metadata": {},
   "outputs": [],
   "source": [
    "batch_size = 32\n",
    "num_workers = multiprocessing.cpu_count()\n",
    "\n",
    "train_loader = DataLoader(\n",
    "    train_dataset,\n",
    "    batch_size=batch_size,\n",
    "    shuffle=True,\n",
    "    num_workers=num_workers,\n",
    ")\n",
    "\n",
    "val_loader = DataLoader(\n",
    "    val_dataset,\n",
    "    batch_size=batch_size,\n",
    "    shuffle=False,\n",
    "    num_workers=num_workers\n",
    ")"
   ]
  },
  {
   "cell_type": "code",
   "execution_count": 8,
   "id": "483de25d",
   "metadata": {},
   "outputs": [],
   "source": [
    "resnet50 = models.resnet50(weights=models.ResNet50_Weights.IMAGENET1K_V1)"
   ]
  },
  {
   "cell_type": "code",
   "execution_count": 9,
   "id": "f93cc236",
   "metadata": {},
   "outputs": [
    {
     "data": {
      "text/plain": [
       "Linear(in_features=2048, out_features=1000, bias=True)"
      ]
     },
     "execution_count": 9,
     "metadata": {},
     "output_type": "execute_result"
    }
   ],
   "source": [
    "resnet50.fc"
   ]
  },
  {
   "cell_type": "code",
   "execution_count": 10,
   "id": "b8f05c45",
   "metadata": {},
   "outputs": [
    {
     "data": {
      "text/plain": [
       "2048"
      ]
     },
     "execution_count": 10,
     "metadata": {},
     "output_type": "execute_result"
    }
   ],
   "source": [
    "resnet50.fc.in_features"
   ]
  },
  {
   "cell_type": "code",
   "execution_count": 11,
   "id": "7defc77c",
   "metadata": {},
   "outputs": [],
   "source": [
    "num_classes = 10\n",
    "resnet50.fc = nn.Linear(resnet50.fc.in_features, num_classes)"
   ]
  },
  {
   "cell_type": "code",
   "execution_count": 12,
   "id": "1ef4c5d3",
   "metadata": {},
   "outputs": [
    {
     "data": {
      "text/plain": [
       "device(type='cuda')"
      ]
     },
     "execution_count": 12,
     "metadata": {},
     "output_type": "execute_result"
    }
   ],
   "source": [
    "model = resnet50\n",
    "criterion = nn.CrossEntropyLoss()\n",
    "optimizer = torch.optim.Adam(model.parameters(), lr=1e-4)\n",
    "device = torch.device(\"cuda\" if torch.cuda.is_available() else \"cpu\")\n",
    "model = model.to(device)\n",
    "device"
   ]
  },
  {
   "cell_type": "code",
   "execution_count": 13,
   "id": "143fe9ed",
   "metadata": {},
   "outputs": [],
   "source": [
    "def train_one_epoch(model, train_loader, criterion, optimizer, device):\n",
    "    model.train()\n",
    "    running_loss = 0.0\n",
    "    correct = 0\n",
    "    total = 0\n",
    "    \n",
    "    for images , labels in train_loader:\n",
    "        # move data to the right device\n",
    "        images, labels = images.to(device), labels.to(device)\n",
    "        \n",
    "        #forward pass\n",
    "        outputs = model(images)\n",
    "        loss = criterion(outputs, labels)\n",
    "        \n",
    "        # backward pass\n",
    "        optimizer.zero_grad()\n",
    "        loss.backward()\n",
    "        optimizer.step()\n",
    "\n",
    "        running_loss += loss.item() * images.size(0)\n",
    "        _, preds =torch.max(outputs, 1)\n",
    "        correct += (preds == labels).sum().item()\n",
    "        total += labels.size(0)\n",
    "    avg_loss = running_loss / total\n",
    "    avg_acc = correct / total\n",
    "    \n",
    "    return avg_loss, avg_acc\n"
   ]
  },
  {
   "cell_type": "code",
   "execution_count": 14,
   "id": "b77cabd8",
   "metadata": {},
   "outputs": [],
   "source": [
    "def validate_one_epoch(model, val_loader, criterion, device):\n",
    "    model.eval()\n",
    "    running_loss = 0.0\n",
    "    correct = 0\n",
    "    total = 0\n",
    "    \n",
    "    with torch.no_grad():\n",
    "        for images, labels in val_loader:\n",
    "            images, labels = images.to(device), labels.to(device)\n",
    "            outputs = model(images)\n",
    "            loss = criterion(outputs, labels)\n",
    "            running_loss += loss.item() * images.size(0)\n",
    "            _, preds = torch.max(outputs, 1)\n",
    "            correct += (preds == labels).sum().item()\n",
    "            total += labels.size(0)\n",
    "\n",
    "    avg_loss = running_loss / total\n",
    "    avg_acc = correct / total\n",
    "    return avg_loss, avg_acc\n"
   ]
  },
  {
   "cell_type": "code",
   "execution_count": 15,
   "id": "d5227e31",
   "metadata": {},
   "outputs": [
    {
     "name": "stdout",
     "output_type": "stream",
     "text": [
      "Epoch 1/3\n",
      "  Train loss: 0.8929 | Train acc: 0.7019\n",
      "  Val Loss  : 5.1599 | Val   Acc: 0.2190\n",
      "Epoch 2/3\n",
      "  Train loss: 0.3691 | Train acc: 0.8828\n",
      "  Val Loss  : 6.8450 | Val   Acc: 0.2056\n",
      "Epoch 3/3\n",
      "  Train loss: 0.2528 | Train acc: 0.9222\n",
      "  Val Loss  : 6.7791 | Val   Acc: 0.2056\n"
     ]
    }
   ],
   "source": [
    "num_epochs = 3\n",
    "\n",
    "for epoch in range(num_epochs):\n",
    "    train_loss, train_acc = train_one_epoch(model, train_loader, criterion, optimizer, device)\n",
    "    val_loss, val_acc = validate_one_epoch(model, val_loader, criterion, device)\n",
    "    print(f\"Epoch {epoch + 1}/{num_epochs}\")\n",
    "    print(f\"  Train loss: {train_loss:.4f} | Train acc: {train_acc:.4f}\")\n",
    "    print(f\"  Val Loss  : {val_loss:.4f} | Val   Acc: {val_acc:.4f}\")"
   ]
  },
  {
   "cell_type": "code",
   "execution_count": 15,
   "id": "89146da3",
   "metadata": {},
   "outputs": [],
   "source": [
    "def train_model(train_loader, val_loader, device, num_epochs=10, lr=1e-4, num_classes=10):\n",
    "    model = models.resnet50(weights=models.ResNet50_Weights.IMAGENET1K_V1)\n",
    "\n",
    "    for param in model.parameters():\n",
    "        param.requires_grad = False\n",
    "    in_features = model.fc.in_features\n",
    "\n",
    "    model.fc = nn.Linear(in_features, num_classes)\n",
    "    criterion = nn.CrossEntropyLoss()\n",
    "    optimizer = torch.optim.Adam(model.fc.parameters(), lr=lr)\n",
    "    model = model.to(device)\n",
    "    for epoch in range(num_epochs):\n",
    "        train_loss, train_acc = train_one_epoch(model, train_loader, criterion, optimizer, device)\n",
    "        val_loss, val_acc = validate_one_epoch(model, val_loader, criterion, device)\n",
    "        print(f\"Epoch {epoch + 1}/{num_epochs}\")\n",
    "        print(f\"  Train loss: {train_loss:.4f} | Train acc: {train_acc:.4f}\")\n",
    "        print(f\"  Val Loss  : {val_loss:.4f}   | Val Acc  : {val_acc:.4f}\")\n",
    "    return model"
   ]
  },
  {
   "cell_type": "code",
   "execution_count": 17,
   "id": "2923f254",
   "metadata": {},
   "outputs": [
    {
     "name": "stdout",
     "output_type": "stream",
     "text": [
      "Epoch 1/3\n",
      "  Train loss: 2.0420 | Train acc: 0.2898\n",
      "  Val Loss  : 2.2891   | Val Acc  : 0.1715\n",
      "Epoch 2/3\n",
      "  Train loss: 1.8087 | Train acc: 0.4084\n",
      "  Val Loss  : 2.3456   | Val Acc  : 0.1537\n",
      "Epoch 3/3\n",
      "  Train loss: 1.6723 | Train acc: 0.4625\n",
      "  Val Loss  : 2.4373   | Val Acc  : 0.1422\n"
     ]
    }
   ],
   "source": [
    "model = train_model(train_loader, val_loader, device, num_epochs=3, lr=1e-4)"
   ]
  },
  {
   "cell_type": "code",
   "execution_count": 18,
   "id": "9a888630",
   "metadata": {},
   "outputs": [
    {
     "name": "stdout",
     "output_type": "stream",
     "text": [
      "Epoch 1/3\n",
      "  Train loss: 1.6797 | Train acc: 0.4302\n",
      "  Val Loss  : 2.8395   | Val Acc  : 0.1830\n",
      "Epoch 2/3\n",
      "  Train loss: 1.3564 | Train acc: 0.5474\n",
      "  Val Loss  : 3.0731   | Val Acc  : 0.2012\n",
      "Epoch 3/3\n",
      "  Train loss: 1.2673 | Train acc: 0.5720\n",
      "  Val Loss  : 3.3108   | Val Acc  : 0.1888\n"
     ]
    }
   ],
   "source": [
    "model = train_model(train_loader, val_loader, device, num_epochs=3, lr=1e-3)"
   ]
  },
  {
   "cell_type": "code",
   "execution_count": 21,
   "id": "7d2425ec",
   "metadata": {},
   "outputs": [],
   "source": [
    "def train_model(train_loader, val_loader, device, num_epochs=10, lr_fc=1e-4, lr_backbone=1e-5, weight_decay=1e-4, num_classes=10):\n",
    "    model = models.resnet50(weights=models.ResNet50_Weights.IMAGENET1K_V1)\n",
    "    for param in model.parameters():\n",
    "        param.requires_grad = False\n",
    "    in_features = model.fc.in_features\n",
    "    model.fc = nn.Linear(in_features, num_classes)\n",
    "    for param in model.layer4.parameters():\n",
    "        param.requires_grad = True\n",
    "    criterion = nn.CrossEntropyLoss()\n",
    "    optimizer = torch.optim.Adam([\n",
    "        {\"params\": model.fc.parameters(), \"lr\": lr_fc},\n",
    "        {\"params\": model.layer4.parameters(), \"lr\": lr_backbone}\n",
    "    ], weight_decay=weight_decay)\n",
    "    model = model.to(device)\n",
    "    for epoch in range(num_epochs):\n",
    "        train_loss, train_acc = train_one_epoch(model, train_loader, criterion, optimizer, device)\n",
    "        val_loss, val_acc = validate_one_epoch(model, val_loader, criterion, device)\n",
    "        print(f\"Epoch {epoch + 1}/{num_epochs}\")\n",
    "        print(f\"  Train loss: {train_loss:.4f} | Train acc: {train_acc:.4f}\")\n",
    "        print(f\"  Val Loss  : {val_loss:.4f}   | Val Acc  : {val_acc:.4f}\")\n",
    "    return model"
   ]
  },
  {
   "cell_type": "code",
   "execution_count": null,
   "id": "922e9129",
   "metadata": {},
   "outputs": [
    {
     "name": "stdout",
     "output_type": "stream",
     "text": [
      "Epoch 1/5\n",
      "  Train loss: 1.6815 | Train acc: 0.4404\n",
      "  Val Loss  : 2.9722   | Val Acc  : 0.1907\n",
      "Epoch 2/5\n",
      "  Train loss: 1.0682 | Train acc: 0.6448\n",
      "  Val Loss  : 3.8842   | Val Acc  : 0.2065\n",
      "Epoch 3/5\n",
      "  Train loss: 0.8128 | Train acc: 0.7396\n",
      "  Val Loss  : 4.4757   | Val Acc  : 0.2080\n",
      "Epoch 4/5\n",
      "  Train loss: 0.6350 | Train acc: 0.7975\n",
      "  Val Loss  : 4.9139   | Val Acc  : 0.2161\n",
      "Epoch 5/5\n",
      "  Train loss: 0.5127 | Train acc: 0.8407\n",
      "  Val Loss  : 5.4215   | Val Acc  : 0.2104\n"
     ]
    }
   ],
   "source": [
    "model = train_model(\n",
    "    train_loader, \n",
    "    val_loader, \n",
    "    device, \n",
    "    num_epochs=5, \n",
    "    lr_fc=1e-4, \n",
    "    lr_backbone=1e-5,\n",
    "    weight_decay=0\n",
    ")"
   ]
  },
  {
   "cell_type": "code",
   "execution_count": 22,
   "id": "f727b6ba",
   "metadata": {},
   "outputs": [
    {
     "name": "stdout",
     "output_type": "stream",
     "text": [
      "Epoch 1/5\n",
      "  Train loss: 1.6994 | Train acc: 0.4371\n",
      "  Val Loss  : 2.9490   | Val Acc  : 0.1926\n",
      "Epoch 2/5\n",
      "  Train loss: 1.0712 | Train acc: 0.6507\n",
      "  Val Loss  : 3.9615   | Val Acc  : 0.1950\n",
      "Epoch 3/5\n",
      "  Train loss: 0.7998 | Train acc: 0.7443\n",
      "  Val Loss  : 4.5405   | Val Acc  : 0.2128\n",
      "Epoch 4/5\n",
      "  Train loss: 0.6415 | Train acc: 0.7917\n",
      "  Val Loss  : 5.1688   | Val Acc  : 0.2075\n",
      "Epoch 5/5\n",
      "  Train loss: 0.5276 | Train acc: 0.8326\n",
      "  Val Loss  : 5.5829   | Val Acc  : 0.2118\n"
     ]
    }
   ],
   "source": [
    "model = train_model(\n",
    "    train_loader, \n",
    "    val_loader, \n",
    "    device, \n",
    "    num_epochs=5, \n",
    "    lr_fc=1e-4, \n",
    "    lr_backbone=1e-5,\n",
    "    weight_decay=1e-4\n",
    ")"
   ]
  },
  {
   "cell_type": "code",
   "execution_count": 23,
   "id": "25b34730",
   "metadata": {},
   "outputs": [],
   "source": [
    "train_transform = transforms.Compose([\n",
    "    # data augmentations\n",
    "    transforms.RandomHorizontalFlip(p=0.5),\n",
    "    transforms.RandomRotation(degrees=20),\n",
    "    transforms.ColorJitter(brightness=0.2, contrast=0.2, saturation=0.2),\n",
    "\n",
    "    transforms.RandomResizedCrop(224),\n",
    "    transforms.ToTensor(),\n",
    "    transforms.Normalize(\n",
    "        mean=[0.485, 0.456, 0.406],\n",
    "        std=[0.229, 0.224, 0.225]\n",
    "    )\n",
    "])\n",
    "\n",
    "\n",
    "train_dataset = PaddyDataset(\n",
    "    df=train_df,\n",
    "    img_dir=img_dir,\n",
    "    transformer=train_transform\n",
    ")\n",
    "\n",
    "val_dataset = PaddyDataset(\n",
    "    df=val_df,\n",
    "    img_dir=img_dir,\n",
    "    transformer=val_transform\n",
    ")\n",
    "\n",
    "train_loader = DataLoader(\n",
    "    train_dataset,\n",
    "    batch_size=batch_size,\n",
    "    shuffle=True,\n",
    "    num_workers=num_workers,\n",
    ")\n",
    "\n",
    "val_loader = DataLoader(\n",
    "    val_dataset,\n",
    "    batch_size=batch_size,\n",
    "    shuffle=False,\n",
    "    num_workers=num_workers\n",
    ")"
   ]
  },
  {
   "cell_type": "code",
   "execution_count": 24,
   "id": "fb5ce3b6",
   "metadata": {},
   "outputs": [
    {
     "name": "stdout",
     "output_type": "stream",
     "text": [
      "Epoch 1/5\n",
      "  Train loss: 1.8100 | Train acc: 0.3850\n",
      "  Val Loss  : 2.7625   | Val Acc  : 0.1931\n",
      "Epoch 2/5\n",
      "  Train loss: 1.3408 | Train acc: 0.5471\n",
      "  Val Loss  : 3.3028   | Val Acc  : 0.2037\n",
      "Epoch 3/5\n",
      "  Train loss: 1.1507 | Train acc: 0.6067\n",
      "  Val Loss  : 3.8394   | Val Acc  : 0.2185\n",
      "Epoch 4/5\n",
      "  Train loss: 1.0239 | Train acc: 0.6567\n",
      "  Val Loss  : 4.0123   | Val Acc  : 0.2224\n",
      "Epoch 5/5\n",
      "  Train loss: 0.9170 | Train acc: 0.6906\n",
      "  Val Loss  : 4.3266   | Val Acc  : 0.2137\n"
     ]
    }
   ],
   "source": [
    "model = train_model(\n",
    "    train_loader, \n",
    "    val_loader, \n",
    "    device, \n",
    "    num_epochs=5, \n",
    "    lr_fc=1e-4, \n",
    "    lr_backbone=1e-5,\n",
    "    weight_decay=1e-4\n",
    ")"
   ]
  },
  {
   "cell_type": "code",
   "execution_count": null,
   "id": "22f638d0",
   "metadata": {},
   "outputs": [],
   "source": []
  },
  {
   "cell_type": "code",
   "execution_count": null,
   "id": "5c82eb96",
   "metadata": {},
   "outputs": [],
   "source": []
  }
 ],
 "metadata": {
  "kernelspec": {
   "display_name": "paddy-doctor",
   "language": "python",
   "name": "python3"
  },
  "language_info": {
   "codemirror_mode": {
    "name": "ipython",
    "version": 3
   },
   "file_extension": ".py",
   "mimetype": "text/x-python",
   "name": "python",
   "nbconvert_exporter": "python",
   "pygments_lexer": "ipython3",
   "version": "3.13.2"
  }
 },
 "nbformat": 4,
 "nbformat_minor": 5
}
